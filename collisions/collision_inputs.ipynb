{
 "cells": [
  {
   "cell_type": "code",
   "execution_count": 7,
   "id": "80023d10",
   "metadata": {},
   "outputs": [],
   "source": [
    "import numpy as np\n",
    "import pandas as pd\n",
    "import matplotlib.pyplot as plt"
   ]
  },
  {
   "cell_type": "markdown",
   "id": "435e05d1",
   "metadata": {},
   "source": [
    "# Computation of collision events\n",
    "Store:\n",
    "* freq_col\n",
    "* col_intens"
   ]
  },
  {
   "cell_type": "code",
   "execution_count": 8,
   "id": "58b4c315",
   "metadata": {},
   "outputs": [
    {
     "name": "stdout",
     "output_type": "stream",
     "text": [
      "lambdas:  [0.010000000000000002, 0.001, 0.0005, 1e-05, 1.0000000000000002e-06] , energy_event:  [0.000625, 0.003125, 0.00625, 0.009375, 0.0125]\n"
     ]
    }
   ],
   "source": [
    "#Ship types (small to be consistent with frame's dimensions)\n",
    "mass =[5,25,50,75,100] #t\n",
    "v = 0.5 #m/s\n",
    "col_intens = [0.5*m*(v**2)*1e-3 for m in mass] #MJ\n",
    "freq_col = [1e-1*f for f in [1e-1, 1e-2, 5e-3, 1e-4, 1e-5]] #per year\n",
    "print('lambdas: ', freq_col, ', energy_event: ', col_intens)"
   ]
  },
  {
   "cell_type": "markdown",
   "id": "e28d1887",
   "metadata": {},
   "source": [
    "## Definition of geometry and mechanical parameters"
   ]
  },
  {
   "cell_type": "code",
   "execution_count": 9,
   "id": "7f799a42",
   "metadata": {},
   "outputs": [],
   "source": [
    "#Zayas frame braces \n",
    "z1,z2,z3,z4=0.702,3.048,3.048,1.524\n",
    "x1,x2=0,3.048\n",
    "xa,ya,dim_a = [x2,0.5*x2], [z1+z2+z3, z1+z2+0.5*z3], [0.102,0.002, 2.15526]\n",
    "xb,yb,dim_b = [x1,0.5*x2], [z1+z2, z1+z2+0.5*z3], [0.102,0.002, 2.15526]\n",
    "xc,yc,dim_c = [x1,0.5*x2], [z1+z2+z3, z1+z2+0.5*z3], [0.102,0.002, 2.15526]\n",
    "xd,yd,dim_d = [x2,0.5*x2], [z1+z2, z1+z2+0.5*z3], [0.102,0.002, 2.15526]\n",
    "xe,ye,dim_e = [x2,0.5*x2], [z1+z2, z1+0.5*z2], [0.127,0.003, 2.15526]\n",
    "xf,yf,dim_f = [x1,0.5*x2], [z1, z1+0.5*z2], [0.127,0.003, 2.15526]\n",
    "xg,yg,dim_g = [x1,0.5*x2], [z1+z2, z1+0.5*z2], [0.127,0.003, 2.15526]\n",
    "xh,yh,dim_h = [x2,0.5*x2], [z1, z1+0.5*z2], [0.127,0.003, 2.15526]\n",
    "xi,yi,dim_i = [x1,0.5*x2], [z1+z2+z3, z1+z2+z3+z4], [0.152,0.0032, 2.15526]\n",
    "xj,yj,dim_j = [x2,0.5*x2], [z1+z2+z3, z1+z2+z3+z4], [0.152,0.0032, 2.15526]\n",
    "xk,yk,dim_k = [x1,x2], [z1+z2+z3, z1+z2+z3], [0.102,0.002, 3.048]\n",
    "xl,yl,dim_l = [x1,x2], [z1+z2, z1+z2], [0.102,0.002, 3.048]\n",
    "xm,ym,dim_m = [x1,x2], [z1, z1], [0.102,0.002, 3.048]\n",
    "\n",
    "#sl=4. #sea level\n",
    "sigy=284 #MPa\n",
    "el_id=['a','b','c','d','e','f','g','h','i','j','k','l','m']\n",
    "\n",
    "d=np.array([dim_a,dim_b,dim_c,dim_d,dim_e,dim_f,dim_g,dim_h,\n",
    "              dim_i,dim_j,dim_k,dim_l,dim_m]).T\n",
    "dim = pd.DataFrame(d ,index=['diameter','thickness','length'], columns=el_id)"
   ]
  },
  {
   "cell_type": "code",
   "execution_count": 10,
   "id": "91a22c79",
   "metadata": {},
   "outputs": [
    {
     "data": {
      "text/plain": [
       "(-0.1524, 3.2004, 0.32099999999999995, 8.703)"
      ]
     },
     "execution_count": 10,
     "metadata": {},
     "output_type": "execute_result"
    },
    {
     "data": {
      "image/png": "[encoded data removed]",
      "text/plain": [
       "<Figure size 640x480 with 1 Axes>"
      ]
     },
     "metadata": {},
     "output_type": "display_data"
    }
   ],
   "source": [
    "#Draw frame\n",
    "#from matplotlib.ticker import AutoMinorLocator\n",
    "#from matplotlib.offsetbox import (TextArea, DrawingArea, OffsetImage,AnnotationBbox)\n",
    "#from labellines import labelLine, labelLines\n",
    "fig1=plt.subplots()\n",
    "plt.plot(xa,ya,xb,yb,xc,yc,xd,yd,xe,ye,xf,yf,xg,yg,xh,yh,xi,yi,xj,yj,\n",
    "         xk,yk,xl,yl,xm,ym,marker = '.',color='grey')\n",
    "plt.axis('equal')"
   ]
  },
  {
   "cell_type": "code",
   "execution_count": 11,
   "id": "5b39210b",
   "metadata": {},
   "outputs": [
    {
     "data": {
      "text/html": [
       "<div>\n",
       "<style scoped>\n",
       "    .dataframe tbody tr th:only-of-type {\n",
       "        vertical-align: middle;\n",
       "    }\n",
       "\n",
       "    .dataframe tbody tr th {\n",
       "        vertical-align: top;\n",
       "    }\n",
       "\n",
       "    .dataframe thead th {\n",
       "        text-align: right;\n",
       "    }\n",
       "</style>\n",
       "<table border=\"1\" class=\"dataframe\">\n",
       "  <thead>\n",
       "    <tr style=\"text-align: right;\">\n",
       "      <th></th>\n",
       "      <th>a</th>\n",
       "      <th>b</th>\n",
       "      <th>c</th>\n",
       "      <th>d</th>\n",
       "      <th>e</th>\n",
       "      <th>f</th>\n",
       "      <th>g</th>\n",
       "      <th>h</th>\n",
       "      <th>i</th>\n",
       "      <th>j</th>\n",
       "      <th>k</th>\n",
       "      <th>l</th>\n",
       "      <th>m</th>\n",
       "    </tr>\n",
       "  </thead>\n",
       "  <tbody>\n",
       "    <tr>\n",
       "      <th>diameter</th>\n",
       "      <td>0.10200</td>\n",
       "      <td>0.10200</td>\n",
       "      <td>0.10200</td>\n",
       "      <td>0.10200</td>\n",
       "      <td>0.12700</td>\n",
       "      <td>0.12700</td>\n",
       "      <td>0.12700</td>\n",
       "      <td>0.12700</td>\n",
       "      <td>0.15200</td>\n",
       "      <td>0.15200</td>\n",
       "      <td>0.102</td>\n",
       "      <td>0.102</td>\n",
       "      <td>0.102</td>\n",
       "    </tr>\n",
       "    <tr>\n",
       "      <th>thickness</th>\n",
       "      <td>0.00200</td>\n",
       "      <td>0.00200</td>\n",
       "      <td>0.00200</td>\n",
       "      <td>0.00200</td>\n",
       "      <td>0.00300</td>\n",
       "      <td>0.00300</td>\n",
       "      <td>0.00300</td>\n",
       "      <td>0.00300</td>\n",
       "      <td>0.00320</td>\n",
       "      <td>0.00320</td>\n",
       "      <td>0.002</td>\n",
       "      <td>0.002</td>\n",
       "      <td>0.002</td>\n",
       "    </tr>\n",
       "    <tr>\n",
       "      <th>length</th>\n",
       "      <td>2.15526</td>\n",
       "      <td>2.15526</td>\n",
       "      <td>2.15526</td>\n",
       "      <td>2.15526</td>\n",
       "      <td>2.15526</td>\n",
       "      <td>2.15526</td>\n",
       "      <td>2.15526</td>\n",
       "      <td>2.15526</td>\n",
       "      <td>2.15526</td>\n",
       "      <td>2.15526</td>\n",
       "      <td>3.048</td>\n",
       "      <td>3.048</td>\n",
       "      <td>3.048</td>\n",
       "    </tr>\n",
       "  </tbody>\n",
       "</table>\n",
       "</div>"
      ],
      "text/plain": [
       "                 a        b        c        d        e        f        g  \\\n",
       "diameter   0.10200  0.10200  0.10200  0.10200  0.12700  0.12700  0.12700   \n",
       "thickness  0.00200  0.00200  0.00200  0.00200  0.00300  0.00300  0.00300   \n",
       "length     2.15526  2.15526  2.15526  2.15526  2.15526  2.15526  2.15526   \n",
       "\n",
       "                 h        i        j      k      l      m  \n",
       "diameter   0.12700  0.15200  0.15200  0.102  0.102  0.102  \n",
       "thickness  0.00300  0.00320  0.00320  0.002  0.002  0.002  \n",
       "length     2.15526  2.15526  2.15526  3.048  3.048  3.048  "
      ]
     },
     "execution_count": 11,
     "metadata": {},
     "output_type": "execute_result"
    }
   ],
   "source": [
    "dim"
   ]
  },
  {
   "cell_type": "code",
   "execution_count": 12,
   "id": "fc776856",
   "metadata": {},
   "outputs": [],
   "source": [
    "index_impacted = ['a','b','c','d','i','j','k','l']"
   ]
  },
  {
   "cell_type": "markdown",
   "id": "60bf5950",
   "metadata": {},
   "source": [
    "# Computing energy max\n",
    "Store:\n",
    "* energy_max\n",
    "* energy_max_index\n",
    "* energy_max_samp"
   ]
  },
  {
   "cell_type": "code",
   "execution_count": 13,
   "id": "fbeebee1",
   "metadata": {},
   "outputs": [],
   "source": [
    "energy_max = np.zeros((2, int(1e5)))\n",
    "\n",
    "od = dim['a']['diameter']\n",
    "wt = dim['a']['thickness']\n",
    "\n",
    "samp = int(1e5)\n",
    "k = np.random.uniform(122, 12800, size=(samp))\n",
    "m = np.random.normal(2.75, 0.25, size=(samp)) \n",
    "\n",
    "sigy = 284 #MPa\n",
    "Np = sigy*np.pi*wt*(od-wt)\n",
    "Mp = sigy*wt*(od-wt)**2\n",
    "l = np.sqrt((xa[0]-xa[1])**2 + (ya[0]-ya[1])**2)\n",
    "\n",
    "thmax = k*(wt/od)**m\n",
    "Emax = 4*Mp*thmax+0.5*Np*l*(thmax**2)\n",
    "energy_max[0] = Emax\n",
    "\n",
    "od = dim['i']['diameter']\n",
    "wt = dim['i']['thickness']\n",
    "\n",
    "samp = int(1e5)\n",
    "k = np.random.uniform(122, 12800, size=(samp))\n",
    "m = np.random.normal(2.75, 0.25, size=(samp)) \n",
    "\n",
    "sigy = 284 #MPa\n",
    "Np = sigy*np.pi*wt*(od-wt)\n",
    "Mp = sigy*wt*(od-wt)**2\n",
    "l = np.sqrt((xi[0]-xi[1])**2 + (yi[0]-yi[1])**2)\n",
    "\n",
    "thmax = k*(wt/od)**m\n",
    "Emax = 4*Mp*thmax+0.5*Np*l*(thmax**2)\n",
    "energy_max[1] = Emax\n",
    "\n",
    "energy_max_index = np.array([0,0,0,0,2,2,2,2,1,1,0,0,2],dtype=int)\n",
    "energy_max_samp = samp\n",
    "\n",
    "# pf_mc = np.sum(Emax < energy_mc) /samp"
   ]
  },
  {
   "cell_type": "code",
   "execution_count": 14,
   "id": "a04a559a",
   "metadata": {},
   "outputs": [
    {
     "data": {
      "text/plain": [
       "(2, 100000)"
      ]
     },
     "execution_count": 14,
     "metadata": {},
     "output_type": "execute_result"
    }
   ],
   "source": [
    "energy_max.shape"
   ]
  },
  {
   "cell_type": "code",
   "execution_count": 15,
   "id": "9fa4fb38",
   "metadata": {},
   "outputs": [
    {
     "data": {
      "text/plain": [
       "array([0, 0, 0, 0, 2, 2, 2, 2, 1, 1, 0, 0, 2])"
      ]
     },
     "execution_count": 15,
     "metadata": {},
     "output_type": "execute_result"
    }
   ],
   "source": [
    "energy_max_index"
   ]
  },
  {
   "cell_type": "code",
   "execution_count": 16,
   "id": "049d0fe8",
   "metadata": {},
   "outputs": [
    {
     "data": {
      "text/plain": [
       "100000"
      ]
     },
     "execution_count": 16,
     "metadata": {},
     "output_type": "execute_result"
    }
   ],
   "source": [
    "energy_max_samp"
   ]
  },
  {
   "cell_type": "markdown",
   "id": "c67fc09f",
   "metadata": {},
   "source": [
    "# Storing input info"
   ]
  },
  {
   "cell_type": "code",
   "execution_count": 17,
   "id": "7197eafb",
   "metadata": {},
   "outputs": [],
   "source": [
    "np.savez('collision_info.npz', col_intens=col_intens, energy_max=energy_max, \n",
    "         energy_max_index=energy_max_index, energy_max_samp=energy_max_samp)"
   ]
  },
  {
   "cell_type": "markdown",
   "id": "1d59fabd",
   "metadata": {},
   "source": [
    "## Method for  $impact$_$energy$ "
   ]
  },
  {
   "cell_type": "code",
   "execution_count": null,
   "id": "ae953750",
   "metadata": {},
   "outputs": [],
   "source": [
    "def energy_collision(impact_energy_start):\n",
    "    collision_events = np.random.poisson(lam = freq_col, size=None)\n",
    "    index_impact_braces = np.array([0, 1, 2, 3, 8, 9, 10, 11], dtype = int)\n",
    "    impact_energy = impact_energy_start.copy()\n",
    "    for i in range(len(freq_col)):\n",
    "        if collision_events[i] > 0:\n",
    "            for _ in range(collision_events[i]):\n",
    "                ind_energy = np.random.choice(index_impact_braces)\n",
    "                impact_energy[ind_energy] += col_intens[i]\n",
    "    return impact_energy"
   ]
  },
  {
   "cell_type": "code",
   "execution_count": null,
   "id": "03c665b8",
   "metadata": {},
   "outputs": [],
   "source": [
    "impact_energy_start = np.zeros(13)\n",
    "imp_energy = energy_collision(impact_energy_start)\n",
    "imp_energy"
   ]
  },
  {
   "cell_type": "code",
   "execution_count": null,
   "id": "efb888e6",
   "metadata": {},
   "outputs": [],
   "source": [
    "imp_energy"
   ]
  },
  {
   "cell_type": "markdown",
   "id": "7278e2fd",
   "metadata": {},
   "source": [
    "## Method for computing $p_{f_{col}}$"
   ]
  },
  {
   "cell_type": "code",
   "execution_count": null,
   "id": "d9aaa642",
   "metadata": {},
   "outputs": [],
   "source": [
    "def pf_col(energy):\n",
    "    pf_brace = np.zeros(13)\n",
    "    for i in range(13):\n",
    "        if energy[i] > 0:\n",
    "            pf_brace[i] = np.sum(energy_max[energy_max_index[i]] < energy[i]) / energy_max_samp\n",
    "    return pf_brace"
   ]
  },
  {
   "cell_type": "code",
   "execution_count": null,
   "id": "fb34eb51",
   "metadata": {},
   "outputs": [],
   "source": [
    "pf_col(imp_energy)"
   ]
  },
  {
   "cell_type": "markdown",
   "id": "5cc086a5",
   "metadata": {},
   "source": [
    "## Examples for the calculation of $E_{max}$"
   ]
  },
  {
   "cell_type": "markdown",
   "id": "cf4ecfa0",
   "metadata": {},
   "source": [
    "### Element 'a'"
   ]
  },
  {
   "cell_type": "code",
   "execution_count": null,
   "id": "4e999d37",
   "metadata": {
    "scrolled": true
   },
   "outputs": [],
   "source": [
    "od = dim['a']['diameter']\n",
    "wt = dim['a']['thickness']\n",
    "\n",
    "samp = int(1e5)\n",
    "k = np.random.uniform(122, 12800, size=(samp))\n",
    "m = np.random.normal(2.75, 0.25, size=(samp)) \n",
    "\n",
    "sigy = 284 #MPa\n",
    "Np = sigy*np.pi*wt*(od-wt)\n",
    "Mp = sigy*wt*(od-wt)**2\n",
    "l = np.sqrt((xa[0]-xa[1])**2 + (ya[0]-ya[1])**2)\n",
    "\n",
    "thmax = k*(wt/od)**m\n",
    "Emax = 4*Mp*thmax+0.5*Np*l*(thmax**2)\n",
    "\n",
    "# bin = 0.0125 - 0.125\n",
    " \n",
    "print('prob_IM_1', np.sum(Emax < 0.000625) /samp)\n",
    "print('prob_IM_2', np.sum(Emax < 0.003125) /samp)\n",
    "print('prob_IM_3', np.sum(Emax < 0.00625) /samp)\n",
    "print('prob_IM_4', np.sum(Emax < 0.009375) /samp)\n",
    "print('prob_IM_5', np.sum(Emax < 0.0125) /samp)"
   ]
  },
  {
   "cell_type": "markdown",
   "id": "a29efe1d",
   "metadata": {},
   "source": [
    "### Element 'i'"
   ]
  },
  {
   "cell_type": "code",
   "execution_count": null,
   "id": "b6ca86a5",
   "metadata": {},
   "outputs": [],
   "source": [
    "od = dim['i']['diameter']\n",
    "wt = dim['i']['thickness']\n",
    "\n",
    "samp = int(1e5)\n",
    "k = np.random.uniform(122, 12800, size=(samp))\n",
    "m = np.random.normal(2.75, 0.25, size=(samp)) \n",
    "\n",
    "sigy = 284 #MPa\n",
    "Np = sigy*np.pi*wt*(od-wt)\n",
    "Mp = sigy*wt*(od-wt)**2\n",
    "l = np.sqrt((xi[0]-xi[1])**2 + (yi[0]-yi[1])**2)\n",
    "\n",
    "thmax = k*(wt/od)**m\n",
    "Emax = 4*Mp*thmax+0.5*Np*l*(thmax**2)\n",
    "\n",
    "# bin = 0.0125 - 0.125\n",
    "\n",
    "print('prob_IM_1', np.sum(Emax < 0.000625) /samp)\n",
    "print('prob_IM_2', np.sum(Emax < 0.003125) /samp)\n",
    "print('prob_IM_3', np.sum(Emax < 0.00625) /samp)\n",
    "print('prob_IM_4', np.sum(Emax < 0.009375) /samp)\n",
    "print('prob_IM_5', np.sum(Emax < 0.0125) /samp)"
   ]
  },
  {
   "cell_type": "markdown",
   "id": "107f7283",
   "metadata": {},
   "source": [
    "# Cells for check"
   ]
  },
  {
   "cell_type": "code",
   "execution_count": null,
   "id": "6f155cb1",
   "metadata": {},
   "outputs": [],
   "source": [
    "from scipy.stats import poisson\n",
    "#N=10000 lifes \n",
    "years=30\n",
    "e=np.empty((len(freq_col),years))\n",
    "el_imp=[]\n",
    "en_imp=[]\n",
    "for j in range (0,years):\n",
    "    el=[]\n",
    "    en=[]\n",
    "    for i in range (0,len(freq_col)):\n",
    "        e[i,j] = np.random.poisson(lam=freq_col[i], size=None)\n",
    "        #Element impacted\n",
    "        for k in range (0,int(e[i,j])):\n",
    "            el.append(np.random.choice(['a','b','c','d','i','j','k','l']))\n",
    "            en.append(\"%.3f\" % col_intens[i])       \n",
    "    el_imp.append(el)\n",
    "    en_imp.append(en)\n",
    "#events=pd.DataFrame(e,index=[str(x)+'MJ' for x in Ecol])\n",
    "#events['total'] = events.sum(axis=1)\n",
    "elements = pd.DataFrame(np.array([el_imp,en_imp],dtype=object))\n",
    "elements"
   ]
  },
  {
   "cell_type": "code",
   "execution_count": null,
   "id": "0eb993e1",
   "metadata": {},
   "outputs": [],
   "source": [
    "d.shape[1]"
   ]
  },
  {
   "cell_type": "code",
   "execution_count": null,
   "id": "d15b7c0c",
   "metadata": {},
   "outputs": [],
   "source": [
    "pf=np.zeros((d.shape[1],years))\n",
    "ecol=np.zeros((d.shape[1],years))\n",
    "Eav=np.empty((d.shape[1],years))\n",
    "for j in range (0,years):\n",
    "    rep=[]\n",
    "    impacted_elements=elements[j][0]       \n",
    "    for k in range (0,d.shape[1]):\n",
    "        rep.append({el_id[k]:impacted_elements.count(el_id[k]) for i in impacted_elements})\n",
    "    for i in range (0,len(impacted_elements)):      \n",
    "        ii=el_id.index(elements[j][0][i])\n",
    "        ecol[ii,j]=elements[j][1][i]\n",
    "        od,wt=dim[elements[j][0][i]][0],dim[elements[j][0][i]][1]\n",
    "        print(od,wt)\n",
    "        l=np.sqrt((xd[0]-xd[1])**2+(yd[0]-yd[1])**2)\n",
    "        #Fully plastic\n",
    "        Np=sigy*np.pi*wt*(od-wt)\n",
    "        Mp=sigy*wt*(od-wt)**2\n",
    "        ##Average for max angle and energy\n",
    "        #thmax_av=1250*(wt/od)**2.75\n",
    "        #Emax_av=4*Mp*thmax_av+0.5*Np*l*(thmax_av**2)       \n",
    "        n=100000\n",
    "        Emax=[]\n",
    "        for x in range (0,n): \n",
    "            k=np.random.uniform(1250,12800)\n",
    "            m=np.random.normal(2.75, 0.12) \n",
    "            thmax=k*(wt/od)**m\n",
    "            Emax.append(4*Mp*thmax+0.5*Np*l*(thmax**2))\n",
    "        efail=[e for e in Emax if ecol[ii,j]>e]\n",
    "        pf[ii,j]=len(efail)/len(Emax)        \n",
    "fail=pd.DataFrame(pf,dtype=object,index=el_id)"
   ]
  },
  {
   "cell_type": "code",
   "execution_count": null,
   "id": "93b91715",
   "metadata": {},
   "outputs": [],
   "source": [
    "fail"
   ]
  },
  {
   "cell_type": "code",
   "execution_count": null,
   "id": "27b4c8c1",
   "metadata": {},
   "outputs": [],
   "source": [
    "#Consider previous year damage \n",
    "pfcum=np.zeros((d.shape[1],years))\n",
    "for j in range (0,years):\n",
    "    el=elements[j][0]\n",
    "    pfcum[:,0]=pf[:,0] \n",
    "    if j>0:\n",
    "        for k in range (0,d.shape[1]):\n",
    "            if el_id[k] not in el: \n",
    "                pfcum[k,j]=pfcum[k,j-1]\n",
    "            if el_id[k] in el and (pfcum[k,j-1]==0.0 or pf[k,j-1]==1.0): \n",
    "                pfcum[k,j]=pf[k,j]\n",
    "            if el_id[k] in el and 0.0<pfcum[k,j-1]<1.0:\n",
    "                ecoltot=np.sum(ecol[k][0:j])\n",
    "                efail_tot=[e for e in Emax if ecoltot>e]\n",
    "                pfcum[k,j]=len(efail_tot)/len(Emax)\n",
    "failcum=pd.DataFrame(pfcum,dtype=object,index=el_id)"
   ]
  },
  {
   "cell_type": "code",
   "execution_count": null,
   "id": "52eace6e",
   "metadata": {},
   "outputs": [],
   "source": [
    "failcum"
   ]
  }
 ],
 "metadata": {
  "celltoolbar": "Format de la Cellule Texte Brut",
  "kernelspec": {
   "display_name": "Python 3 (ipykernel)",
   "language": "python",
   "name": "python3"
  },
  "language_info": {
   "codemirror_mode": {
    "name": "ipython",
    "version": 3
   },
   "file_extension": ".py",
   "mimetype": "text/x-python",
   "name": "python",
   "nbconvert_exporter": "python",
   "pygments_lexer": "ipython3",
   "version": "3.8.15"
  }
 },
 "nbformat": 4,
 "nbformat_minor": 5
}
